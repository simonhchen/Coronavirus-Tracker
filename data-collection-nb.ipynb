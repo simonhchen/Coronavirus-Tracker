{
 "cells": [
  {
   "cell_type": "markdown",
   "source": [
    "# Load Packages"
   ],
   "metadata": {
    "collapsed": false,
    "pycharm": {
     "name": "#%% md\n"
    }
   }
  },
  {
   "cell_type": "code",
   "execution_count": 1,
   "metadata": {
    "collapsed": true
   },
   "outputs": [],
   "source": [
    "from bs4 import BeautifulSoup\n",
    "import requests\n",
    "from urllib.parse import urljoin\n",
    "import pandas as pd\n"
   ]
  },
  {
   "cell_type": "markdown",
   "source": [
    "# Pulls COVID-19 data from John Hopkins Repo. Stores each daily .csv file as a DataFrame within a data dictionary\n"
   ],
   "metadata": {
    "collapsed": false,
    "pycharm": {
     "name": "#%% md\n"
    }
   }
  },
  {
   "cell_type": "code",
   "execution_count": 2,
   "outputs": [],
   "source": [
    "base = \"https://raw.githubusercontent.com\"\n",
    "url = requests.get('https://github.com/CSSEGISandData/COVID-19/tree/master/csse_covid_19_data/csse_covid_19_daily_reports').text\n",
    "soup = BeautifulSoup(url, features=\"html.parser\")\n",
    "\n",
    "data_dict = {}\n",
    "\n",
    "for link in (urljoin(base, a[\"href\"]) for a in soup.select(\"a[href$='.csv']\")):\n",
    "    link = link.replace('/blob', '')\n",
    "    data_dict[link.replace(\"https://raw.githubusercontent.com/CSSEGISandData/COVID-19/master/csse_covid_19_data/csse_covid_19_daily_reports/\", \"\")] = pd.read_csv(link)\n"
   ],
   "metadata": {
    "collapsed": false,
    "pycharm": {
     "name": "#%%\n"
    }
   }
  },
  {
   "cell_type": "code",
   "execution_count": 4,
   "outputs": [
    {
     "name": "stdout",
     "output_type": "stream",
     "text": [
      "01-22-2020.csv\n",
      "01-23-2020.csv\n",
      "01-24-2020.csv\n",
      "01-25-2020.csv\n",
      "01-26-2020.csv\n",
      "01-27-2020.csv\n",
      "01-28-2020.csv\n",
      "01-29-2020.csv\n",
      "01-30-2020.csv\n",
      "01-31-2020.csv\n",
      "02-01-2020.csv\n",
      "02-02-2020.csv\n",
      "02-03-2020.csv\n",
      "02-04-2020.csv\n",
      "02-05-2020.csv\n",
      "02-06-2020.csv\n",
      "02-07-2020.csv\n",
      "02-08-2020.csv\n",
      "02-09-2020.csv\n",
      "02-10-2020.csv\n",
      "02-11-2020.csv\n",
      "02-12-2020.csv\n",
      "02-13-2020.csv\n",
      "02-14-2020.csv\n",
      "02-15-2020.csv\n",
      "02-16-2020.csv\n",
      "02-17-2020.csv\n",
      "02-18-2020.csv\n",
      "02-19-2020.csv\n",
      "02-20-2020.csv\n",
      "02-21-2020.csv\n",
      "02-22-2020.csv\n",
      "02-23-2020.csv\n",
      "02-24-2020.csv\n",
      "02-25-2020.csv\n",
      "02-26-2020.csv\n",
      "02-27-2020.csv\n",
      "02-28-2020.csv\n",
      "02-29-2020.csv\n",
      "03-01-2020.csv\n",
      "03-02-2020.csv\n",
      "03-03-2020.csv\n",
      "03-04-2020.csv\n",
      "03-05-2020.csv\n",
      "03-06-2020.csv\n",
      "03-07-2020.csv\n",
      "03-08-2020.csv\n",
      "03-09-2020.csv\n",
      "03-10-2020.csv\n",
      "03-11-2020.csv\n",
      "03-12-2020.csv\n",
      "03-13-2020.csv\n",
      "03-14-2020.csv\n",
      "03-15-2020.csv\n",
      "03-16-2020.csv\n",
      "03-17-2020.csv\n",
      "03-18-2020.csv\n",
      "03-19-2020.csv\n",
      "03-20-2020.csv\n",
      "03-21-2020.csv\n",
      "03-22-2020.csv\n",
      "03-23-2020.csv\n",
      "03-24-2020.csv\n",
      "03-25-2020.csv\n",
      "03-26-2020.csv\n",
      "03-27-2020.csv\n",
      "03-28-2020.csv\n",
      "03-29-2020.csv\n",
      "03-30-2020.csv\n",
      "03-31-2020.csv\n",
      "04-01-2020.csv\n",
      "04-02-2020.csv\n",
      "04-03-2020.csv\n",
      "04-04-2020.csv\n",
      "04-05-2020.csv\n",
      "04-06-2020.csv\n",
      "04-07-2020.csv\n",
      "04-08-2020.csv\n",
      "04-09-2020.csv\n",
      "04-10-2020.csv\n",
      "04-11-2020.csv\n",
      "04-12-2020.csv\n",
      "04-13-2020.csv\n"
     ]
    }
   ],
   "source": [
    "for key in data_dict:\n",
    "    print(key)"
   ],
   "metadata": {
    "collapsed": false,
    "pycharm": {
     "name": "#%%\n"
    }
   }
  }
 ],
 "metadata": {
  "kernelspec": {
   "name": "python3",
   "language": "python",
   "display_name": "Python 3"
  },
  "language_info": {
   "codemirror_mode": {
    "name": "ipython",
    "version": 2
   },
   "file_extension": ".py",
   "mimetype": "text/x-python",
   "name": "python",
   "nbconvert_exporter": "python",
   "pygments_lexer": "ipython2",
   "version": "2.7.6"
  }
 },
 "nbformat": 4,
 "nbformat_minor": 0
}